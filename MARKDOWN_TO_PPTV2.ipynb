{
 "cells": [
  {
   "cell_type": "code",
   "execution_count": 7,
   "id": "98c929f2-4efa-456b-8780-4737787daec3",
   "metadata": {},
   "outputs": [],
   "source": [
    "import pypandoc\n",
    "#direccion = \"C:\\Users\\HP\\Desktop\\PORTAFOLIO DE PROYECTOS\\Markdown2powerpoint.md\"\n",
    "output = pypandoc.convert_file('Markdown2powerpoint.md', 'pptx', outputfile=\"salida.pptx\")\n",
    "assert output == \"\"\n"
   ]
  },
  {
   "cell_type": "code",
   "execution_count": null,
   "id": "1e6a6b7f-f6e1-47f9-bbe8-00a895dbf6d4",
   "metadata": {},
   "outputs": [],
   "source": []
  }
 ],
 "metadata": {
  "kernelspec": {
   "display_name": "Python 3 (ipykernel)",
   "language": "python",
   "name": "python3"
  },
  "language_info": {
   "codemirror_mode": {
    "name": "ipython",
    "version": 3
   },
   "file_extension": ".py",
   "mimetype": "text/x-python",
   "name": "python",
   "nbconvert_exporter": "python",
   "pygments_lexer": "ipython3",
   "version": "3.11.7"
  }
 },
 "nbformat": 4,
 "nbformat_minor": 5
}
